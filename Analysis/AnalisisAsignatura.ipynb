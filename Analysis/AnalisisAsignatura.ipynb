{
 "cells": [
  {
   "cell_type": "markdown",
   "metadata": {},
   "source": [
    "# Análisis de la vida académica de la Facultad de Ciencias\n",
    "## Indicadores de Profesores de Asignatura"
   ]
  },
  {
   "cell_type": "markdown",
   "metadata": {},
   "source": [
    "### Carga de librerías para el análisis "
   ]
  },
  {
   "cell_type": "code",
   "execution_count": 1,
   "metadata": {},
   "outputs": [],
   "source": [
    "import pandas as pd\n",
    "import numpy as np\n",
    "from datetime import datetime\n",
    "import re\n",
    "import matplotlib.pyplot as plt"
   ]
  },
  {
   "cell_type": "markdown",
   "metadata": {},
   "source": [
    "### Cargar bases de datos que utilizaremos"
   ]
  },
  {
   "cell_type": "code",
   "execution_count": 2,
   "metadata": {},
   "outputs": [],
   "source": [
    "df_courses=pd.read_csv('../Data/courses.csv', dtype = {'ID': str,'CourseName': str}).set_index('ID')\n",
    "\n",
    "df_groups=pd.read_csv('../Data/groups.csv', dtype = {'GroupYSID': str,'Quota': int,'Signed':int}).set_index('GroupYSID')\n",
    "\n",
    "df_profs=pd.read_csv('../Data/profs-anon.csv', dtype = {'ID': int, 'Name':str, 'Appointment':str,'SimpAppointment': 'category'}).set_index('ID')\n",
    "\n",
    "df_teaching=pd.read_csv('../Data/teaching.csv', dtype = {'ProfID': int,'GroupYSID': str,'ProfType':'category', 'Days': str, 'Hours': str})\n",
    "\n",
    "df_plans=pd.read_csv('../Data/plans_courses.csv', dtype={'CourseID':int,'PlanID':\"int64\",'CourseType':'category'})\n",
    "\n",
    "df_plan_names=pd.read_csv('../Data/plans.csv').set_index('ID')\n",
    "\n",
    "# Hay algunas materias homólogas que no queremos que estén\n",
    "df_homologas=pd.read_csv('../Data/homologas.csv')\n",
    "df_homologas['old_name_code']=df_homologas['old_name_code'].apply(lambda x: '{:0>4d}'.format(x))\n",
    "df_homologas['new_name_code']=df_homologas['new_name_code'].apply(lambda x: '{:0>4d}'.format(x))"
   ]
  },
  {
   "cell_type": "code",
   "execution_count": 3,
   "metadata": {
    "scrolled": true
   },
   "outputs": [
    {
     "data": {
      "text/html": [
       "<div>\n",
       "<style scoped>\n",
       "    .dataframe tbody tr th:only-of-type {\n",
       "        vertical-align: middle;\n",
       "    }\n",
       "\n",
       "    .dataframe tbody tr th {\n",
       "        vertical-align: top;\n",
       "    }\n",
       "\n",
       "    .dataframe thead th {\n",
       "        text-align: right;\n",
       "    }\n",
       "</style>\n",
       "<table border=\"1\" class=\"dataframe\">\n",
       "  <thead>\n",
       "    <tr style=\"text-align: right;\">\n",
       "      <th></th>\n",
       "      <th>CourseName</th>\n",
       "    </tr>\n",
       "    <tr>\n",
       "      <th>ID</th>\n",
       "      <th></th>\n",
       "    </tr>\n",
       "  </thead>\n",
       "  <tbody>\n",
       "    <tr>\n",
       "      <th>0377</th>\n",
       "      <td>Comercio de la Biodiversidad</td>\n",
       "    </tr>\n",
       "    <tr>\n",
       "      <th>2004</th>\n",
       "      <td>Temas Selectos de Astrofísica I</td>\n",
       "    </tr>\n",
       "    <tr>\n",
       "      <th>0351</th>\n",
       "      <td>Introducción a las Funciones Recursivas y Comp...</td>\n",
       "    </tr>\n",
       "  </tbody>\n",
       "</table>\n",
       "</div>"
      ],
      "text/plain": [
       "                                             CourseName\n",
       "ID                                                     \n",
       "0377                       Comercio de la Biodiversidad\n",
       "2004                    Temas Selectos de Astrofísica I\n",
       "0351  Introducción a las Funciones Recursivas y Comp..."
      ]
     },
     "metadata": {},
     "output_type": "display_data"
    },
    {
     "data": {
      "text/html": [
       "<div>\n",
       "<style scoped>\n",
       "    .dataframe tbody tr th:only-of-type {\n",
       "        vertical-align: middle;\n",
       "    }\n",
       "\n",
       "    .dataframe tbody tr th {\n",
       "        vertical-align: top;\n",
       "    }\n",
       "\n",
       "    .dataframe thead th {\n",
       "        text-align: right;\n",
       "    }\n",
       "</style>\n",
       "<table border=\"1\" class=\"dataframe\">\n",
       "  <thead>\n",
       "    <tr style=\"text-align: right;\">\n",
       "      <th></th>\n",
       "      <th>Quota</th>\n",
       "      <th>Signed</th>\n",
       "    </tr>\n",
       "    <tr>\n",
       "      <th>GroupYSID</th>\n",
       "      <th></th>\n",
       "      <th></th>\n",
       "    </tr>\n",
       "  </thead>\n",
       "  <tbody>\n",
       "    <tr>\n",
       "      <th>2007-2-0606-7019</th>\n",
       "      <td>0</td>\n",
       "      <td>22</td>\n",
       "    </tr>\n",
       "    <tr>\n",
       "      <th>2017-1-1208-9012</th>\n",
       "      <td>0</td>\n",
       "      <td>19</td>\n",
       "    </tr>\n",
       "    <tr>\n",
       "      <th>2001-1-0249-4057</th>\n",
       "      <td>27</td>\n",
       "      <td>29</td>\n",
       "    </tr>\n",
       "  </tbody>\n",
       "</table>\n",
       "</div>"
      ],
      "text/plain": [
       "                  Quota  Signed\n",
       "GroupYSID                      \n",
       "2007-2-0606-7019      0      22\n",
       "2017-1-1208-9012      0      19\n",
       "2001-1-0249-4057     27      29"
      ]
     },
     "metadata": {},
     "output_type": "display_data"
    },
    {
     "data": {
      "text/html": [
       "<div>\n",
       "<style scoped>\n",
       "    .dataframe tbody tr th:only-of-type {\n",
       "        vertical-align: middle;\n",
       "    }\n",
       "\n",
       "    .dataframe tbody tr th {\n",
       "        vertical-align: top;\n",
       "    }\n",
       "\n",
       "    .dataframe thead th {\n",
       "        text-align: right;\n",
       "    }\n",
       "</style>\n",
       "<table border=\"1\" class=\"dataframe\">\n",
       "  <thead>\n",
       "    <tr style=\"text-align: right;\">\n",
       "      <th></th>\n",
       "      <th>Appointment</th>\n",
       "      <th>SimpAppointment</th>\n",
       "    </tr>\n",
       "    <tr>\n",
       "      <th>ID</th>\n",
       "      <th></th>\n",
       "      <th></th>\n",
       "    </tr>\n",
       "  </thead>\n",
       "  <tbody>\n",
       "    <tr>\n",
       "      <th>60657</th>\n",
       "      <td>Profesor de Asignatura</td>\n",
       "      <td>PA</td>\n",
       "    </tr>\n",
       "    <tr>\n",
       "      <th>62629</th>\n",
       "      <td>Ayudante de Profesor de Asignatura</td>\n",
       "      <td>Ayud</td>\n",
       "    </tr>\n",
       "    <tr>\n",
       "      <th>52745</th>\n",
       "      <td>Ayudante de Profesor de Asignatura</td>\n",
       "      <td>Ayud</td>\n",
       "    </tr>\n",
       "  </tbody>\n",
       "</table>\n",
       "</div>"
      ],
      "text/plain": [
       "                              Appointment SimpAppointment\n",
       "ID                                                       \n",
       "60657              Profesor de Asignatura              PA\n",
       "62629  Ayudante de Profesor de Asignatura            Ayud\n",
       "52745  Ayudante de Profesor de Asignatura            Ayud"
      ]
     },
     "metadata": {},
     "output_type": "display_data"
    },
    {
     "data": {
      "text/html": [
       "<div>\n",
       "<style scoped>\n",
       "    .dataframe tbody tr th:only-of-type {\n",
       "        vertical-align: middle;\n",
       "    }\n",
       "\n",
       "    .dataframe tbody tr th {\n",
       "        vertical-align: top;\n",
       "    }\n",
       "\n",
       "    .dataframe thead th {\n",
       "        text-align: right;\n",
       "    }\n",
       "</style>\n",
       "<table border=\"1\" class=\"dataframe\">\n",
       "  <thead>\n",
       "    <tr style=\"text-align: right;\">\n",
       "      <th></th>\n",
       "      <th>ProfID</th>\n",
       "      <th>GroupYSID</th>\n",
       "      <th>ProfType</th>\n",
       "      <th>Days</th>\n",
       "      <th>Hours</th>\n",
       "    </tr>\n",
       "  </thead>\n",
       "  <tbody>\n",
       "    <tr>\n",
       "      <th>52029</th>\n",
       "      <td>34171</td>\n",
       "      <td>2016-2-0840-4370</td>\n",
       "      <td>Profesor</td>\n",
       "      <td>lu mi vi</td>\n",
       "      <td>11 a 12</td>\n",
       "    </tr>\n",
       "    <tr>\n",
       "      <th>30959</th>\n",
       "      <td>33314</td>\n",
       "      <td>2001-1-0005-4090</td>\n",
       "      <td>Profesor</td>\n",
       "      <td>lu mi vi</td>\n",
       "      <td>9 a 10</td>\n",
       "    </tr>\n",
       "    <tr>\n",
       "      <th>100477</th>\n",
       "      <td>56948</td>\n",
       "      <td>2013-2-0245-4073</td>\n",
       "      <td>Ayudante</td>\n",
       "      <td>ma ju</td>\n",
       "      <td>9 a 10</td>\n",
       "    </tr>\n",
       "  </tbody>\n",
       "</table>\n",
       "</div>"
      ],
      "text/plain": [
       "        ProfID         GroupYSID  ProfType      Days    Hours\n",
       "52029    34171  2016-2-0840-4370  Profesor  lu mi vi  11 a 12\n",
       "30959    33314  2001-1-0005-4090  Profesor  lu mi vi   9 a 10\n",
       "100477   56948  2013-2-0245-4073  Ayudante     ma ju   9 a 10"
      ]
     },
     "metadata": {},
     "output_type": "display_data"
    },
    {
     "data": {
      "text/html": [
       "<div>\n",
       "<style scoped>\n",
       "    .dataframe tbody tr th:only-of-type {\n",
       "        vertical-align: middle;\n",
       "    }\n",
       "\n",
       "    .dataframe tbody tr th {\n",
       "        vertical-align: top;\n",
       "    }\n",
       "\n",
       "    .dataframe thead th {\n",
       "        text-align: right;\n",
       "    }\n",
       "</style>\n",
       "<table border=\"1\" class=\"dataframe\">\n",
       "  <thead>\n",
       "    <tr style=\"text-align: right;\">\n",
       "      <th></th>\n",
       "      <th>CourseID</th>\n",
       "      <th>PlanID</th>\n",
       "      <th>CourseType</th>\n",
       "    </tr>\n",
       "  </thead>\n",
       "  <tbody>\n",
       "    <tr>\n",
       "      <th>1030</th>\n",
       "      <td>1012</td>\n",
       "      <td>201</td>\n",
       "      <td>Optativa</td>\n",
       "    </tr>\n",
       "    <tr>\n",
       "      <th>261</th>\n",
       "      <td>610</td>\n",
       "      <td>106</td>\n",
       "      <td>Obligatoria</td>\n",
       "    </tr>\n",
       "    <tr>\n",
       "      <th>801</th>\n",
       "      <td>1531</td>\n",
       "      <td>134</td>\n",
       "      <td>Obligatoria</td>\n",
       "    </tr>\n",
       "  </tbody>\n",
       "</table>\n",
       "</div>"
      ],
      "text/plain": [
       "      CourseID  PlanID   CourseType\n",
       "1030      1012     201     Optativa\n",
       "261        610     106  Obligatoria\n",
       "801       1531     134  Obligatoria"
      ]
     },
     "metadata": {},
     "output_type": "display_data"
    }
   ],
   "source": [
    "for df in [df_courses, df_groups, df_profs, df_teaching, df_plans]:\n",
    "    display(df.sample(3))"
   ]
  },
  {
   "cell_type": "markdown",
   "metadata": {},
   "source": [
    "### Agregar funciones útiles"
   ]
  },
  {
   "cell_type": "code",
   "execution_count": 4,
   "metadata": {},
   "outputs": [],
   "source": [
    "def get_course_name(courseid):\n",
    "    try:\n",
    "        if type(courseid)==int:\n",
    "            courseid='{:0>4d}'.format(courseid)\n",
    "        if type(courseid)==str:\n",
    "            return(df_courses.loc[courseid]['CourseName'])\n",
    "    except:\n",
    "        return \"Not found\"\n",
    "    \n",
    "def es_asignatura(text):\n",
    "    if text=='PA':\n",
    "        return(1)\n",
    "    else:\n",
    "        return(0)"
   ]
  },
  {
   "cell_type": "markdown",
   "metadata": {},
   "source": [
    "### Agregar columnas útiles"
   ]
  },
  {
   "cell_type": "markdown",
   "metadata": {},
   "source": [
    "Para `df_teaching`"
   ]
  },
  {
   "cell_type": "code",
   "execution_count": 5,
   "metadata": {},
   "outputs": [
    {
     "data": {
      "text/plain": [
       "0    2017\n",
       "1    0307\n",
       "2    0827\n",
       "3    0302\n",
       "4    0302\n",
       "Name: CourseID, dtype: object"
      ]
     },
     "metadata": {},
     "output_type": "display_data"
    },
    {
     "data": {
      "text/plain": [
       "0    2016-1\n",
       "1    2006-2\n",
       "2    2008-1\n",
       "3    2007-1\n",
       "4    2007-2\n",
       "Name: Semester, dtype: object"
      ]
     },
     "metadata": {},
     "output_type": "display_data"
    },
    {
     "data": {
      "text/plain": [
       "0                          Meteorología\n",
       "1    Máquinas Digitales con Laboratorio\n",
       "2        Dinámica de Medios Deformables\n",
       "3                  Fenómenos Colectivos\n",
       "4                  Fenómenos Colectivos\n",
       "Name: CourseName, dtype: object"
      ]
     },
     "metadata": {},
     "output_type": "display_data"
    }
   ],
   "source": [
    "df_teaching['CourseID']=df_teaching['GroupYSID'].apply(lambda x: x.split('-')[-2])\n",
    "df_teaching['Semester']=df_teaching['GroupYSID'].apply(lambda x:x[:6])\n",
    "df_teaching['CourseName']=df_teaching['CourseID'].apply(get_course_name)\n",
    "display(df_teaching['CourseID'].head())\n",
    "display(df_teaching['Semester'].head())\n",
    "display(df_teaching['CourseName'].head())"
   ]
  },
  {
   "cell_type": "markdown",
   "metadata": {},
   "source": [
    "Para `df_profs`"
   ]
  },
  {
   "cell_type": "code",
   "execution_count": 6,
   "metadata": {},
   "outputs": [],
   "source": [
    "df_profs['Asignatura']=df_profs['SimpAppointment'].apply(es_asignatura)"
   ]
  },
  {
   "cell_type": "markdown",
   "metadata": {},
   "source": [
    "### Tipos de semestre"
   ]
  },
  {
   "cell_type": "code",
   "execution_count": 7,
   "metadata": {},
   "outputs": [],
   "source": [
    "sem_1=['{}-1'.format(j) for j in range(2001,2022)]\n",
    "sem_2=['{}-2'.format(j) for j in range(2001,2022)]\n",
    "sem_3=['{}-3'.format(j) for j in range(2001,2022)]\n",
    "sem_4=['{}-4'.format(j) for j in range(2001,2022)]\n",
    "sem_regular=sorted(sem_1+sem_2)\n",
    "sem_inter=sorted(sem_3+sem_4)\n",
    "sem_1_recent=['{}-1'.format(j) for j in range(2017,2022)]\n",
    "sem_2_recent=['{}-2'.format(j) for j in range(2017,2022)]\n",
    "sem_3_recent=['{}-3'.format(j) for j in range(2017,2022)]\n",
    "sem_4_recent=['{}-4'.format(j) for j in range(2017,2022)]\n",
    "sem_regular_recent=sorted(sem_1_recent+sem_2_recent)\n",
    "sem_inter_recent=sorted(sem_3_recent+sem_3_recent)"
   ]
  },
  {
   "cell_type": "markdown",
   "metadata": {},
   "source": [
    "## Join de la información"
   ]
  },
  {
   "cell_type": "code",
   "execution_count": 8,
   "metadata": {},
   "outputs": [
    {
     "name": "stdout",
     "output_type": "stream",
     "text": [
      "(146660, 13)\n",
      "(140357, 13)\n"
     ]
    }
   ],
   "source": [
    "df_teaching_join=df_teaching.join(df_groups,on='GroupYSID').join(df_profs, on='ProfID')\n",
    "df_teaching_join['Asignatura']=df_teaching_join['SimpAppointment'].apply(es_asignatura)\n",
    "df_teaching_join.head()\n",
    "\n",
    "# Quitamos las materias homólogas. Dejamos sólo con el nombre reciente.\n",
    "print(df_teaching_join.shape)\n",
    "df_teaching_join=df_teaching_join[~df_teaching_join['CourseID'].isin(df_homologas['old_name_code'])]\n",
    "print(df_teaching_join.shape)"
   ]
  },
  {
   "cell_type": "code",
   "execution_count": 9,
   "metadata": {},
   "outputs": [
    {
     "data": {
      "text/html": [
       "<div>\n",
       "<style scoped>\n",
       "    .dataframe tbody tr th:only-of-type {\n",
       "        vertical-align: middle;\n",
       "    }\n",
       "\n",
       "    .dataframe tbody tr th {\n",
       "        vertical-align: top;\n",
       "    }\n",
       "\n",
       "    .dataframe thead th {\n",
       "        text-align: right;\n",
       "    }\n",
       "</style>\n",
       "<table border=\"1\" class=\"dataframe\">\n",
       "  <thead>\n",
       "    <tr style=\"text-align: right;\">\n",
       "      <th></th>\n",
       "      <th>ProfID</th>\n",
       "      <th>GroupYSID</th>\n",
       "      <th>ProfType</th>\n",
       "      <th>Days</th>\n",
       "      <th>Hours</th>\n",
       "      <th>CourseID</th>\n",
       "      <th>Semester</th>\n",
       "      <th>CourseName</th>\n",
       "      <th>Quota</th>\n",
       "      <th>Signed</th>\n",
       "      <th>Appointment</th>\n",
       "      <th>SimpAppointment</th>\n",
       "      <th>Asignatura</th>\n",
       "    </tr>\n",
       "  </thead>\n",
       "  <tbody>\n",
       "    <tr>\n",
       "      <th>140660</th>\n",
       "      <td>82775</td>\n",
       "      <td>2021-2-1800-5427</td>\n",
       "      <td>Profesor</td>\n",
       "      <td>NaN</td>\n",
       "      <td>NaN</td>\n",
       "      <td>1800</td>\n",
       "      <td>2021-2</td>\n",
       "      <td>Taller Nivel 4</td>\n",
       "      <td>0</td>\n",
       "      <td>4</td>\n",
       "      <td>Investigador de Carrera Asociado</td>\n",
       "      <td>Inv</td>\n",
       "      <td>0.0</td>\n",
       "    </tr>\n",
       "    <tr>\n",
       "      <th>69878</th>\n",
       "      <td>41192</td>\n",
       "      <td>2004-2-0162-4089</td>\n",
       "      <td>Ayudante</td>\n",
       "      <td>ma ju</td>\n",
       "      <td>9 a 10</td>\n",
       "      <td>0162</td>\n",
       "      <td>2004-2</td>\n",
       "      <td>Ecuaciones Diferenciales I</td>\n",
       "      <td>0</td>\n",
       "      <td>57</td>\n",
       "      <td>Ayudante de Profesor de Asignatura</td>\n",
       "      <td>Ayud</td>\n",
       "      <td>0.0</td>\n",
       "    </tr>\n",
       "    <tr>\n",
       "      <th>24689</th>\n",
       "      <td>33038</td>\n",
       "      <td>2013-1-1404-5249</td>\n",
       "      <td>Profesor</td>\n",
       "      <td>vi</td>\n",
       "      <td>11 a 14</td>\n",
       "      <td>1404</td>\n",
       "      <td>2013-1</td>\n",
       "      <td>Genética I</td>\n",
       "      <td>25</td>\n",
       "      <td>25</td>\n",
       "      <td>Profesora de Carrera Titular</td>\n",
       "      <td>PTC</td>\n",
       "      <td>0.0</td>\n",
       "    </tr>\n",
       "    <tr>\n",
       "      <th>144749</th>\n",
       "      <td>92386</td>\n",
       "      <td>2017-2-1819-1079</td>\n",
       "      <td>Profesor</td>\n",
       "      <td>ma ju</td>\n",
       "      <td>14 a 16</td>\n",
       "      <td>1819</td>\n",
       "      <td>2017-2</td>\n",
       "      <td>Políticas y Normatividad en el Manejo de los S...</td>\n",
       "      <td>31</td>\n",
       "      <td>31</td>\n",
       "      <td>Profesora de Asignatura</td>\n",
       "      <td>PA</td>\n",
       "      <td>1.0</td>\n",
       "    </tr>\n",
       "    <tr>\n",
       "      <th>120139</th>\n",
       "      <td>65030</td>\n",
       "      <td>2020-1-1102-5028</td>\n",
       "      <td>Laboratorio</td>\n",
       "      <td>lu</td>\n",
       "      <td>18 a 21</td>\n",
       "      <td>1102</td>\n",
       "      <td>2020-1</td>\n",
       "      <td>Física</td>\n",
       "      <td>25</td>\n",
       "      <td>24</td>\n",
       "      <td>Profesora de Asignatura</td>\n",
       "      <td>PA</td>\n",
       "      <td>1.0</td>\n",
       "    </tr>\n",
       "  </tbody>\n",
       "</table>\n",
       "</div>"
      ],
      "text/plain": [
       "        ProfID         GroupYSID     ProfType   Days    Hours CourseID  \\\n",
       "140660   82775  2021-2-1800-5427     Profesor    NaN      NaN     1800   \n",
       "69878    41192  2004-2-0162-4089     Ayudante  ma ju   9 a 10     0162   \n",
       "24689    33038  2013-1-1404-5249     Profesor     vi  11 a 14     1404   \n",
       "144749   92386  2017-2-1819-1079     Profesor  ma ju  14 a 16     1819   \n",
       "120139   65030  2020-1-1102-5028  Laboratorio     lu  18 a 21     1102   \n",
       "\n",
       "       Semester                                         CourseName  Quota  \\\n",
       "140660   2021-2                                     Taller Nivel 4      0   \n",
       "69878    2004-2                         Ecuaciones Diferenciales I      0   \n",
       "24689    2013-1                                         Genética I     25   \n",
       "144749   2017-2  Políticas y Normatividad en el Manejo de los S...     31   \n",
       "120139   2020-1                                             Física     25   \n",
       "\n",
       "        Signed                         Appointment SimpAppointment  Asignatura  \n",
       "140660       4    Investigador de Carrera Asociado             Inv         0.0  \n",
       "69878       57  Ayudante de Profesor de Asignatura            Ayud         0.0  \n",
       "24689       25        Profesora de Carrera Titular             PTC         0.0  \n",
       "144749      31             Profesora de Asignatura              PA         1.0  \n",
       "120139      24             Profesora de Asignatura              PA         1.0  "
      ]
     },
     "execution_count": 9,
     "metadata": {},
     "output_type": "execute_result"
    }
   ],
   "source": [
    "df_teaching_join.sample(5)"
   ]
  },
  {
   "cell_type": "markdown",
   "metadata": {},
   "source": [
    "## Histórico asignatura vs. no asignatura"
   ]
  },
  {
   "cell_type": "markdown",
   "metadata": {},
   "source": [
    "En esta parte estudiamos de manera histórica cuántos grupos han sido atendidos por profesores de asignatura y cuántos por profesores de carrera. De momento nos interesa quién dirige el grupo, de modo que filtramos nuestra información por `ProfType`."
   ]
  },
  {
   "cell_type": "code",
   "execution_count": 10,
   "metadata": {
    "scrolled": true
   },
   "outputs": [
    {
     "data": {
      "text/html": [
       "<div>\n",
       "<style scoped>\n",
       "    .dataframe tbody tr th:only-of-type {\n",
       "        vertical-align: middle;\n",
       "    }\n",
       "\n",
       "    .dataframe tbody tr th {\n",
       "        vertical-align: top;\n",
       "    }\n",
       "\n",
       "    .dataframe thead th {\n",
       "        text-align: right;\n",
       "    }\n",
       "</style>\n",
       "<table border=\"1\" class=\"dataframe\">\n",
       "  <thead>\n",
       "    <tr style=\"text-align: right;\">\n",
       "      <th></th>\n",
       "      <th>ProfID</th>\n",
       "      <th>GroupYSID</th>\n",
       "      <th>ProfType</th>\n",
       "      <th>Days</th>\n",
       "      <th>Hours</th>\n",
       "      <th>CourseID</th>\n",
       "      <th>Semester</th>\n",
       "      <th>CourseName</th>\n",
       "      <th>Quota</th>\n",
       "      <th>Signed</th>\n",
       "      <th>Appointment</th>\n",
       "      <th>SimpAppointment</th>\n",
       "      <th>Asignatura</th>\n",
       "    </tr>\n",
       "  </thead>\n",
       "  <tbody>\n",
       "    <tr>\n",
       "      <th>34199</th>\n",
       "      <td>33428</td>\n",
       "      <td>2014-2-1506-9090</td>\n",
       "      <td>Profesor</td>\n",
       "      <td>lu mi vi</td>\n",
       "      <td>10 a 11</td>\n",
       "      <td>1506</td>\n",
       "      <td>2014-2</td>\n",
       "      <td>Investigación de Operaciones</td>\n",
       "      <td>0</td>\n",
       "      <td>38</td>\n",
       "      <td>Profesora de Carrera Asociado</td>\n",
       "      <td>PTC</td>\n",
       "      <td>0.0</td>\n",
       "    </tr>\n",
       "    <tr>\n",
       "      <th>116504</th>\n",
       "      <td>63776</td>\n",
       "      <td>2019-2-1404-5221</td>\n",
       "      <td>Profesor</td>\n",
       "      <td>mi</td>\n",
       "      <td>7:30 a 10:30</td>\n",
       "      <td>1404</td>\n",
       "      <td>2019-2</td>\n",
       "      <td>Genética I</td>\n",
       "      <td>25</td>\n",
       "      <td>22</td>\n",
       "      <td>Profesora de Asignatura</td>\n",
       "      <td>PA</td>\n",
       "      <td>1.0</td>\n",
       "    </tr>\n",
       "    <tr>\n",
       "      <th>25520</th>\n",
       "      <td>33077</td>\n",
       "      <td>2007-2-1405-5174</td>\n",
       "      <td>Profesor</td>\n",
       "      <td>ma</td>\n",
       "      <td>18 a 21</td>\n",
       "      <td>1405</td>\n",
       "      <td>2007-2</td>\n",
       "      <td>Paleobiología</td>\n",
       "      <td>25</td>\n",
       "      <td>25</td>\n",
       "      <td>Profesor de Asignatura</td>\n",
       "      <td>PA</td>\n",
       "      <td>1.0</td>\n",
       "    </tr>\n",
       "    <tr>\n",
       "      <th>71967</th>\n",
       "      <td>41297</td>\n",
       "      <td>2018-2-0435-1180</td>\n",
       "      <td>Profesor</td>\n",
       "      <td>mi</td>\n",
       "      <td>15 a 18</td>\n",
       "      <td>0435</td>\n",
       "      <td>2018-2</td>\n",
       "      <td>Limnología</td>\n",
       "      <td>15</td>\n",
       "      <td>5</td>\n",
       "      <td>Profesor de Carrera Titular</td>\n",
       "      <td>PTC</td>\n",
       "      <td>0.0</td>\n",
       "    </tr>\n",
       "    <tr>\n",
       "      <th>96589</th>\n",
       "      <td>55558</td>\n",
       "      <td>2016-1-0244-4066</td>\n",
       "      <td>Profesor</td>\n",
       "      <td>lu mi vi</td>\n",
       "      <td>17 a 18</td>\n",
       "      <td>0244</td>\n",
       "      <td>2016-1</td>\n",
       "      <td>Geometría Analítica I</td>\n",
       "      <td>0</td>\n",
       "      <td>52</td>\n",
       "      <td>Profesora de Asignatura</td>\n",
       "      <td>PA</td>\n",
       "      <td>1.0</td>\n",
       "    </tr>\n",
       "  </tbody>\n",
       "</table>\n",
       "</div>"
      ],
      "text/plain": [
       "        ProfID         GroupYSID  ProfType      Days         Hours CourseID  \\\n",
       "34199    33428  2014-2-1506-9090  Profesor  lu mi vi       10 a 11     1506   \n",
       "116504   63776  2019-2-1404-5221  Profesor        mi  7:30 a 10:30     1404   \n",
       "25520    33077  2007-2-1405-5174  Profesor        ma       18 a 21     1405   \n",
       "71967    41297  2018-2-0435-1180  Profesor        mi       15 a 18     0435   \n",
       "96589    55558  2016-1-0244-4066  Profesor  lu mi vi       17 a 18     0244   \n",
       "\n",
       "       Semester                    CourseName  Quota  Signed  \\\n",
       "34199    2014-2  Investigación de Operaciones      0      38   \n",
       "116504   2019-2                    Genética I     25      22   \n",
       "25520    2007-2                 Paleobiología     25      25   \n",
       "71967    2018-2                    Limnología     15       5   \n",
       "96589    2016-1         Geometría Analítica I      0      52   \n",
       "\n",
       "                          Appointment SimpAppointment  Asignatura  \n",
       "34199   Profesora de Carrera Asociado             PTC         0.0  \n",
       "116504        Profesora de Asignatura              PA         1.0  \n",
       "25520          Profesor de Asignatura              PA         1.0  \n",
       "71967     Profesor de Carrera Titular             PTC         0.0  \n",
       "96589         Profesora de Asignatura              PA         1.0  "
      ]
     },
     "execution_count": 10,
     "metadata": {},
     "output_type": "execute_result"
    }
   ],
   "source": [
    "df_teaching_join_prof=df_teaching_join[(df_teaching_join['ProfType']=='Profesor')&(df_teaching_join['Semester'].isin(sem_regular))]\n",
    "df_teaching_join_prof.sample(5)"
   ]
  },
  {
   "cell_type": "markdown",
   "metadata": {},
   "source": [
    "Para esta parte sólo nos interesan algunas de las columnas del dataframe."
   ]
  },
  {
   "cell_type": "code",
   "execution_count": 11,
   "metadata": {},
   "outputs": [
    {
     "data": {
      "text/html": [
       "<div>\n",
       "<style scoped>\n",
       "    .dataframe tbody tr th:only-of-type {\n",
       "        vertical-align: middle;\n",
       "    }\n",
       "\n",
       "    .dataframe tbody tr th {\n",
       "        vertical-align: top;\n",
       "    }\n",
       "\n",
       "    .dataframe thead th {\n",
       "        text-align: right;\n",
       "    }\n",
       "</style>\n",
       "<table border=\"1\" class=\"dataframe\">\n",
       "  <thead>\n",
       "    <tr style=\"text-align: right;\">\n",
       "      <th></th>\n",
       "      <th>GroupYSID</th>\n",
       "      <th>Asignatura</th>\n",
       "      <th>Semester</th>\n",
       "      <th>Signed</th>\n",
       "    </tr>\n",
       "  </thead>\n",
       "  <tbody>\n",
       "    <tr>\n",
       "      <th>0</th>\n",
       "      <td>2001-1-0001-4114</td>\n",
       "      <td>0.0</td>\n",
       "      <td>2001-1</td>\n",
       "      <td>6</td>\n",
       "    </tr>\n",
       "    <tr>\n",
       "      <th>1</th>\n",
       "      <td>2001-1-0001-4115</td>\n",
       "      <td>0.0</td>\n",
       "      <td>2001-1</td>\n",
       "      <td>24</td>\n",
       "    </tr>\n",
       "    <tr>\n",
       "      <th>2</th>\n",
       "      <td>2001-1-0001-4116</td>\n",
       "      <td>1.0</td>\n",
       "      <td>2001-1</td>\n",
       "      <td>12</td>\n",
       "    </tr>\n",
       "    <tr>\n",
       "      <th>3</th>\n",
       "      <td>2001-1-0001-4117</td>\n",
       "      <td>0.0</td>\n",
       "      <td>2001-1</td>\n",
       "      <td>14</td>\n",
       "    </tr>\n",
       "    <tr>\n",
       "      <th>4</th>\n",
       "      <td>2001-1-0001-4118</td>\n",
       "      <td>0.0</td>\n",
       "      <td>2001-1</td>\n",
       "      <td>14</td>\n",
       "    </tr>\n",
       "  </tbody>\n",
       "</table>\n",
       "</div>"
      ],
      "text/plain": [
       "          GroupYSID  Asignatura Semester  Signed\n",
       "0  2001-1-0001-4114         0.0   2001-1       6\n",
       "1  2001-1-0001-4115         0.0   2001-1      24\n",
       "2  2001-1-0001-4116         1.0   2001-1      12\n",
       "3  2001-1-0001-4117         0.0   2001-1      14\n",
       "4  2001-1-0001-4118         0.0   2001-1      14"
      ]
     },
     "execution_count": 11,
     "metadata": {},
     "output_type": "execute_result"
    }
   ],
   "source": [
    "df_aux=df_teaching_join_prof[['GroupYSID','Asignatura','Semester','Signed']]\n",
    "df_aux=df_aux.groupby(['GroupYSID']).first().reset_index()\n",
    "df_aux.head()"
   ]
  },
  {
   "cell_type": "markdown",
   "metadata": {},
   "source": [
    "Agrupamos y agregamos para ver cuántos grupos y cuántos estudiantes han antendido profesores de asignatura y profesores de carrera."
   ]
  },
  {
   "cell_type": "code",
   "execution_count": 12,
   "metadata": {},
   "outputs": [
    {
     "data": {
      "text/html": [
       "<div>\n",
       "<style scoped>\n",
       "    .dataframe tbody tr th:only-of-type {\n",
       "        vertical-align: middle;\n",
       "    }\n",
       "\n",
       "    .dataframe tbody tr th {\n",
       "        vertical-align: top;\n",
       "    }\n",
       "\n",
       "    .dataframe thead tr th {\n",
       "        text-align: left;\n",
       "    }\n",
       "\n",
       "    .dataframe thead tr:last-of-type th {\n",
       "        text-align: right;\n",
       "    }\n",
       "</style>\n",
       "<table border=\"1\" class=\"dataframe\">\n",
       "  <thead>\n",
       "    <tr>\n",
       "      <th></th>\n",
       "      <th colspan=\"2\" halign=\"left\">GroupYSID</th>\n",
       "      <th colspan=\"2\" halign=\"left\">Signed</th>\n",
       "    </tr>\n",
       "    <tr>\n",
       "      <th>Asignatura</th>\n",
       "      <th>0.0</th>\n",
       "      <th>1.0</th>\n",
       "      <th>0.0</th>\n",
       "      <th>1.0</th>\n",
       "    </tr>\n",
       "    <tr>\n",
       "      <th>Semester</th>\n",
       "      <th></th>\n",
       "      <th></th>\n",
       "      <th></th>\n",
       "      <th></th>\n",
       "    </tr>\n",
       "  </thead>\n",
       "  <tbody>\n",
       "    <tr>\n",
       "      <th>2001-1</th>\n",
       "      <td>438</td>\n",
       "      <td>405</td>\n",
       "      <td>8250</td>\n",
       "      <td>8753</td>\n",
       "    </tr>\n",
       "    <tr>\n",
       "      <th>2001-2</th>\n",
       "      <td>403</td>\n",
       "      <td>359</td>\n",
       "      <td>7313</td>\n",
       "      <td>7327</td>\n",
       "    </tr>\n",
       "    <tr>\n",
       "      <th>2002-1</th>\n",
       "      <td>438</td>\n",
       "      <td>373</td>\n",
       "      <td>9200</td>\n",
       "      <td>8761</td>\n",
       "    </tr>\n",
       "    <tr>\n",
       "      <th>2002-2</th>\n",
       "      <td>455</td>\n",
       "      <td>338</td>\n",
       "      <td>8098</td>\n",
       "      <td>6457</td>\n",
       "    </tr>\n",
       "    <tr>\n",
       "      <th>2003-1</th>\n",
       "      <td>496</td>\n",
       "      <td>384</td>\n",
       "      <td>9164</td>\n",
       "      <td>8228</td>\n",
       "    </tr>\n",
       "  </tbody>\n",
       "</table>\n",
       "</div>"
      ],
      "text/plain": [
       "           GroupYSID      Signed      \n",
       "Asignatura       0.0  1.0    0.0   1.0\n",
       "Semester                              \n",
       "2001-1           438  405   8250  8753\n",
       "2001-2           403  359   7313  7327\n",
       "2002-1           438  373   9200  8761\n",
       "2002-2           455  338   8098  6457\n",
       "2003-1           496  384   9164  8228"
      ]
     },
     "execution_count": 12,
     "metadata": {},
     "output_type": "execute_result"
    }
   ],
   "source": [
    "df_aux=df_aux.groupby(['Asignatura','Semester']).agg({'GroupYSID':'count','Signed':'sum'})\n",
    "df_aux=df_aux.unstack(0)\n",
    "df_aux.head()"
   ]
  },
  {
   "cell_type": "markdown",
   "metadata": {},
   "source": [
    "Ahora sí, hacemos las figuras"
   ]
  },
  {
   "cell_type": "code",
   "execution_count": 13,
   "metadata": {
    "scrolled": true
   },
   "outputs": [
    {
     "name": "stderr",
     "output_type": "stream",
     "text": [
      "The PostScript backend does not support transparency; partially transparent artists will be rendered opaque.\n",
      "The PostScript backend does not support transparency; partially transparent artists will be rendered opaque.\n"
     ]
    },
    {
     "data": {
      "image/png": "[encoded data removed]",
      "text/plain": [
       "<Figure size 432x288 with 1 Axes>"
      ]
     },
     "metadata": {
      "needs_background": "light"
     },
     "output_type": "display_data"
    }
   ],
   "source": [
    "ax = df_aux['GroupYSID'][0].plot(label='No asignatura',title='Grupos atendidos')\n",
    "df_aux['GroupYSID'][1].plot(ax=ax,label='Asignatura',xlabel='Semestre',ylabel='Grupos')\n",
    "ax.vlines(39,0,1200,label='Covid-19',color='red',linestyles='dashed')\n",
    "ax.legend()\n",
    "plt.savefig('../Figuras/grupos.eps', format='eps')\n",
    "plt.show()"
   ]
  },
  {
   "cell_type": "code",
   "execution_count": 14,
   "metadata": {},
   "outputs": [
    {
     "name": "stderr",
     "output_type": "stream",
     "text": [
      "The PostScript backend does not support transparency; partially transparent artists will be rendered opaque.\n",
      "The PostScript backend does not support transparency; partially transparent artists will be rendered opaque.\n"
     ]
    },
    {
     "data": {
      "image/png": "[encoded data removed]",
      "text/plain": [
       "<Figure size 432x288 with 1 Axes>"
      ]
     },
     "metadata": {
      "needs_background": "light"
     },
     "output_type": "display_data"
    }
   ],
   "source": [
    "ax = df_aux['Signed'][0].plot(label='No asignatura',title='Alumnos atendidos')\n",
    "df_aux['Signed'][1].plot(ax=ax,label='Asignatura',xlabel='Semestre',ylabel='Alumnos')\n",
    "ax.vlines(39,0,30000,label='Covid-19',color='red',linestyles='dashed')\n",
    "ax.legend()\n",
    "plt.savefig('../Figuras/alumnos.eps', format='eps')\n",
    "plt.show()"
   ]
  },
  {
   "cell_type": "markdown",
   "metadata": {},
   "source": [
    "## Histórico por curso y menor cantidad de asignatura recientes ($\\alpha$)"
   ]
  },
  {
   "cell_type": "markdown",
   "metadata": {},
   "source": [
    "Hacemos un análisis similar, pero restringido a algún curso y sólo para semestres recientes. Esto es sencillo, simplemente hay que elegir el filtro correspondiente. Se puede elegir la materia cambiando el valor de la variable `course_id`."
   ]
  },
  {
   "cell_type": "code",
   "execution_count": 15,
   "metadata": {},
   "outputs": [
    {
     "name": "stdout",
     "output_type": "stream",
     "text": [
      "0091 Cálculo Diferencial e Integral I\n"
     ]
    }
   ],
   "source": [
    "course_id='0091'\n",
    "course_name=get_course_name(course_id)\n",
    "print(course_id,course_name)"
   ]
  },
  {
   "cell_type": "code",
   "execution_count": 16,
   "metadata": {},
   "outputs": [
    {
     "data": {
      "text/html": [
       "<div>\n",
       "<style scoped>\n",
       "    .dataframe tbody tr th:only-of-type {\n",
       "        vertical-align: middle;\n",
       "    }\n",
       "\n",
       "    .dataframe tbody tr th {\n",
       "        vertical-align: top;\n",
       "    }\n",
       "\n",
       "    .dataframe thead tr th {\n",
       "        text-align: left;\n",
       "    }\n",
       "\n",
       "    .dataframe thead tr:last-of-type th {\n",
       "        text-align: right;\n",
       "    }\n",
       "</style>\n",
       "<table border=\"1\" class=\"dataframe\">\n",
       "  <thead>\n",
       "    <tr>\n",
       "      <th></th>\n",
       "      <th colspan=\"2\" halign=\"left\">GroupYSID</th>\n",
       "      <th colspan=\"2\" halign=\"left\">Signed</th>\n",
       "    </tr>\n",
       "    <tr>\n",
       "      <th>Asignatura</th>\n",
       "      <th>0.0</th>\n",
       "      <th>1.0</th>\n",
       "      <th>0.0</th>\n",
       "      <th>1.0</th>\n",
       "    </tr>\n",
       "    <tr>\n",
       "      <th>Semester</th>\n",
       "      <th></th>\n",
       "      <th></th>\n",
       "      <th></th>\n",
       "      <th></th>\n",
       "    </tr>\n",
       "  </thead>\n",
       "  <tbody>\n",
       "    <tr>\n",
       "      <th>2017-1</th>\n",
       "      <td>12.0</td>\n",
       "      <td>16.0</td>\n",
       "      <td>875.0</td>\n",
       "      <td>900.0</td>\n",
       "    </tr>\n",
       "    <tr>\n",
       "      <th>2017-2</th>\n",
       "      <td>NaN</td>\n",
       "      <td>12.0</td>\n",
       "      <td>NaN</td>\n",
       "      <td>658.0</td>\n",
       "    </tr>\n",
       "    <tr>\n",
       "      <th>2018-1</th>\n",
       "      <td>9.0</td>\n",
       "      <td>18.0</td>\n",
       "      <td>549.0</td>\n",
       "      <td>1125.0</td>\n",
       "    </tr>\n",
       "    <tr>\n",
       "      <th>2018-2</th>\n",
       "      <td>2.0</td>\n",
       "      <td>9.0</td>\n",
       "      <td>114.0</td>\n",
       "      <td>471.0</td>\n",
       "    </tr>\n",
       "    <tr>\n",
       "      <th>2019-1</th>\n",
       "      <td>9.0</td>\n",
       "      <td>23.0</td>\n",
       "      <td>584.0</td>\n",
       "      <td>1253.0</td>\n",
       "    </tr>\n",
       "  </tbody>\n",
       "</table>\n",
       "</div>"
      ],
      "text/plain": [
       "           GroupYSID       Signed        \n",
       "Asignatura       0.0   1.0    0.0     1.0\n",
       "Semester                                 \n",
       "2017-1          12.0  16.0  875.0   900.0\n",
       "2017-2           NaN  12.0    NaN   658.0\n",
       "2018-1           9.0  18.0  549.0  1125.0\n",
       "2018-2           2.0   9.0  114.0   471.0\n",
       "2019-1           9.0  23.0  584.0  1253.0"
      ]
     },
     "execution_count": 16,
     "metadata": {},
     "output_type": "execute_result"
    }
   ],
   "source": [
    "filter_prof=(df_teaching_join['ProfType']=='Profesor')\n",
    "filter_time=(df_teaching_join['Semester'].isin(sem_regular_recent))\n",
    "filter_course=(df_teaching_join['CourseID']==course_id)\n",
    "df_teaching_aux=df_teaching_join[filter_prof&filter_time&filter_course]\n",
    "df_aux=df_teaching_aux[['GroupYSID','Asignatura','Semester','Signed']]\n",
    "df_aux=df_aux.groupby(['GroupYSID']).first().reset_index()\n",
    "df_aux=df_aux.groupby(['Asignatura','Semester']).agg({'GroupYSID':'count','Signed':'sum'})\n",
    "df_aux=df_aux.unstack(0)\n",
    "df_aux.head()"
   ]
  },
  {
   "cell_type": "code",
   "execution_count": 17,
   "metadata": {},
   "outputs": [
    {
     "data": {
      "image/png": "[encoded data removed]",
      "text/plain": [
       "<Figure size 432x288 with 1 Axes>"
      ]
     },
     "metadata": {
      "needs_background": "light"
     },
     "output_type": "display_data"
    }
   ],
   "source": [
    "ax = df_aux['GroupYSID'][0].fillna(0).plot(label='No asignatura',title='Grupos atendidos de {}'.format(course_name),xlabel='Semestre',ylabel='Grupos')\n",
    "df_aux['GroupYSID'][1].fillna(0).plot(ax=ax,label='Asignatura',xlabel='Semestre',ylabel='Grupos')\n",
    "plt.hlines(df_aux['GroupYSID'][1].fillna(0).min(),0,9,label='Minimo asignatura',linestyles='dashed',color='orange')\n",
    "ax.legend()\n",
    "# plt.savefig('../Figuras/calculo_grupos.eps', format='eps')\n",
    "plt.show()"
   ]
  },
  {
   "cell_type": "code",
   "execution_count": 18,
   "metadata": {},
   "outputs": [
    {
     "data": {
      "image/png": "[encoded data removed]",
      "text/plain": [
       "<Figure size 432x288 with 1 Axes>"
      ]
     },
     "metadata": {
      "needs_background": "light"
     },
     "output_type": "display_data"
    }
   ],
   "source": [
    "ax = df_aux['Signed'][0].fillna(0).plot(label='No asignatura',title='Alumnos atendidos de {}'.format(course_name),xlabel='Semestre',ylabel='Grupos')\n",
    "df_aux['Signed'][1].fillna(0).plot(ax=ax,label='Asignatura',xlabel='Semestre',ylabel='Grupos')\n",
    "ax.legend()\n",
    "# plt.savefig('../Figuras/calculo_alumnos.eps', format='eps')\n",
    "plt.show()"
   ]
  },
  {
   "cell_type": "markdown",
   "metadata": {},
   "source": [
    "En general, podemos calcular el valor de $\\alpha$ para una materia como sigue:"
   ]
  },
  {
   "cell_type": "code",
   "execution_count": 19,
   "metadata": {},
   "outputs": [],
   "source": [
    "filter_prof=(df_teaching_join['ProfType']=='Profesor')\n",
    "filter_time=(df_teaching_join['Semester'].isin(sem_regular_recent))\n",
    "df_teaching_aux=df_teaching_join[filter_prof&filter_time]\n",
    "\n",
    "def alpha(course_id):\n",
    "    df_teaching_aux_loc=df_teaching_aux[df_teaching_aux['CourseID']==course_id]\n",
    "    df_aux=df_teaching_aux_loc[['GroupYSID','Asignatura','Semester']]\n",
    "    df_aux=df_aux.groupby(['GroupYSID']).first().reset_index()\n",
    "    df_aux=df_aux.groupby(['Asignatura','Semester']).agg({'GroupYSID':'count'})\n",
    "    df_aux=df_aux.unstack(0)\n",
    "    try:\n",
    "        return df_aux['GroupYSID'][1].fillna(0).min()\n",
    "    except Exception as exception:\n",
    "        return(type(exception).__name__+\"\")"
   ]
  },
  {
   "cell_type": "code",
   "execution_count": 20,
   "metadata": {},
   "outputs": [
    {
     "data": {
      "text/plain": [
       "8.0"
      ]
     },
     "execution_count": 20,
     "metadata": {},
     "output_type": "execute_result"
    }
   ],
   "source": [
    "alpha(\"0091\")"
   ]
  },
  {
   "cell_type": "markdown",
   "metadata": {},
   "source": [
    "## Distribución de impartición ($\\beta$)"
   ]
  },
  {
   "cell_type": "markdown",
   "metadata": {},
   "source": [
    "Para cada profesor de asignatura,¿cuántas veces ha dado un curso? Ya que tenemos eso, ¿cómo se ve la distribución por curso? Una vez más, lo siguiente se puede hacer por asignatura, usando el código de materia en XFC."
   ]
  },
  {
   "cell_type": "code",
   "execution_count": 21,
   "metadata": {},
   "outputs": [
    {
     "name": "stdout",
     "output_type": "stream",
     "text": [
      "0091 Cálculo Diferencial e Integral I\n"
     ]
    }
   ],
   "source": [
    "course_id='0091'\n",
    "course_name=get_course_name(course_id)\n",
    "print(course_id,course_name)"
   ]
  },
  {
   "cell_type": "code",
   "execution_count": 22,
   "metadata": {
    "scrolled": true
   },
   "outputs": [
    {
     "data": {
      "text/html": [
       "<div>\n",
       "<style scoped>\n",
       "    .dataframe tbody tr th:only-of-type {\n",
       "        vertical-align: middle;\n",
       "    }\n",
       "\n",
       "    .dataframe tbody tr th {\n",
       "        vertical-align: top;\n",
       "    }\n",
       "\n",
       "    .dataframe thead th {\n",
       "        text-align: right;\n",
       "    }\n",
       "</style>\n",
       "<table border=\"1\" class=\"dataframe\">\n",
       "  <thead>\n",
       "    <tr style=\"text-align: right;\">\n",
       "      <th></th>\n",
       "      <th>Semester</th>\n",
       "    </tr>\n",
       "    <tr>\n",
       "      <th>ProfID</th>\n",
       "      <th></th>\n",
       "    </tr>\n",
       "  </thead>\n",
       "  <tbody>\n",
       "    <tr>\n",
       "      <th>1987</th>\n",
       "      <td>2</td>\n",
       "    </tr>\n",
       "    <tr>\n",
       "      <th>4102</th>\n",
       "      <td>4</td>\n",
       "    </tr>\n",
       "    <tr>\n",
       "      <th>6140</th>\n",
       "      <td>2</td>\n",
       "    </tr>\n",
       "    <tr>\n",
       "      <th>12138</th>\n",
       "      <td>1</td>\n",
       "    </tr>\n",
       "    <tr>\n",
       "      <th>17629</th>\n",
       "      <td>1</td>\n",
       "    </tr>\n",
       "  </tbody>\n",
       "</table>\n",
       "</div>"
      ],
      "text/plain": [
       "        Semester\n",
       "ProfID          \n",
       "1987           2\n",
       "4102           4\n",
       "6140           2\n",
       "12138          1\n",
       "17629          1"
      ]
     },
     "execution_count": 22,
     "metadata": {},
     "output_type": "execute_result"
    }
   ],
   "source": [
    "filter_prof=(df_teaching_join['ProfType']=='Profesor')\n",
    "filter_time=(df_teaching_join['Semester'].isin(sem_regular_recent))\n",
    "filter_course=(df_teaching_join['CourseID']==course_id)\n",
    "filter_asig=(df_teaching_join['Asignatura']==1)\n",
    "\n",
    "df_teaching_aux=df_teaching_join[filter_prof&filter_time&filter_course&filter_asig]\n",
    "df_aux=df_teaching_aux[['ProfID','Semester']]\n",
    "df_aux=df_aux.groupby(['ProfID']).count()\n",
    "df_aux.head()"
   ]
  },
  {
   "cell_type": "code",
   "execution_count": 23,
   "metadata": {},
   "outputs": [
    {
     "data": {
      "image/png": "[encoded data removed]",
      "text/plain": [
       "<Figure size 432x288 with 1 Axes>"
      ]
     },
     "metadata": {
      "needs_background": "light"
     },
     "output_type": "display_data"
    }
   ],
   "source": [
    "ax=df_aux.plot(kind='hist',bins=np.arange(1,12,1),xticks=np.arange(1,11,1), align='left',width=0.8)\n",
    "ax.set_xlabel('Veces impartida')\n",
    "ax.set_ylabel('Frecuencia (profesores)')\n",
    "ax.set_title('{}'.format(course_name))\n",
    "ax.get_legend().remove()\n",
    "plt.savefig('../Figuras/dist_calculo.eps', format='eps')\n",
    "plt.show()"
   ]
  },
  {
   "cell_type": "markdown",
   "metadata": {},
   "source": [
    "Para calcular el valor de $\\beta$ para una materia, lo que se hace es contar el número de profesores de asignatura que en los últimos 10 semestres han impartido la materia al menos 6 veces."
   ]
  },
  {
   "cell_type": "code",
   "execution_count": 24,
   "metadata": {},
   "outputs": [],
   "source": [
    "filter_prof=(df_teaching_join['ProfType']=='Profesor')\n",
    "filter_time=(df_teaching_join['Semester'].isin(sem_regular_recent))\n",
    "filter_asig=(df_teaching_join['Asignatura']==1)\n",
    "df_teaching_aux=df_teaching_join[filter_prof&filter_time&filter_asig]\n",
    "\n",
    "def beta(course_id):\n",
    "    filter_course=(df_teaching_aux['CourseID']==course_id)\n",
    "    df_teaching_aux_loc=df_teaching_aux[filter_course]\n",
    "    df_aux=df_teaching_aux_loc[['ProfID','Semester']]\n",
    "    df_aux=df_aux.groupby(['ProfID']).count()\n",
    "    return(len(df_aux[df_aux['Semester']>=6]))"
   ]
  },
  {
   "cell_type": "code",
   "execution_count": 25,
   "metadata": {
    "scrolled": true
   },
   "outputs": [
    {
     "data": {
      "text/plain": [
       "3"
      ]
     },
     "execution_count": 25,
     "metadata": {},
     "output_type": "execute_result"
    }
   ],
   "source": [
    "beta('0091')"
   ]
  },
  {
   "cell_type": "markdown",
   "metadata": {},
   "source": [
    "## Indicadores para materias obligatorias"
   ]
  },
  {
   "cell_type": "code",
   "execution_count": 26,
   "metadata": {},
   "outputs": [
    {
     "data": {
      "text/html": [
       "<div>\n",
       "<style scoped>\n",
       "    .dataframe tbody tr th:only-of-type {\n",
       "        vertical-align: middle;\n",
       "    }\n",
       "\n",
       "    .dataframe tbody tr th {\n",
       "        vertical-align: top;\n",
       "    }\n",
       "\n",
       "    .dataframe thead th {\n",
       "        text-align: right;\n",
       "    }\n",
       "</style>\n",
       "<table border=\"1\" class=\"dataframe\">\n",
       "  <thead>\n",
       "    <tr style=\"text-align: right;\">\n",
       "      <th></th>\n",
       "      <th>PlanName</th>\n",
       "    </tr>\n",
       "    <tr>\n",
       "      <th>ID</th>\n",
       "      <th></th>\n",
       "    </tr>\n",
       "  </thead>\n",
       "  <tbody>\n",
       "    <tr>\n",
       "      <th>101</th>\n",
       "      <td>Actuaría</td>\n",
       "    </tr>\n",
       "    <tr>\n",
       "      <th>104</th>\n",
       "      <td>Ciencias de la Computación</td>\n",
       "    </tr>\n",
       "    <tr>\n",
       "      <th>106</th>\n",
       "      <td>Física</td>\n",
       "    </tr>\n",
       "    <tr>\n",
       "      <th>122</th>\n",
       "      <td>Matemáticas</td>\n",
       "    </tr>\n",
       "    <tr>\n",
       "      <th>127</th>\n",
       "      <td>Ciencias de la Tierra</td>\n",
       "    </tr>\n",
       "    <tr>\n",
       "      <th>134</th>\n",
       "      <td>Física Biomédica</td>\n",
       "    </tr>\n",
       "    <tr>\n",
       "      <th>136</th>\n",
       "      <td>Matemáticas Aplicadas</td>\n",
       "    </tr>\n",
       "    <tr>\n",
       "      <th>201</th>\n",
       "      <td>Biología</td>\n",
       "    </tr>\n",
       "  </tbody>\n",
       "</table>\n",
       "</div>"
      ],
      "text/plain": [
       "                       PlanName\n",
       "ID                             \n",
       "101                    Actuaría\n",
       "104  Ciencias de la Computación\n",
       "106                      Física\n",
       "122                 Matemáticas\n",
       "127       Ciencias de la Tierra\n",
       "134            Física Biomédica\n",
       "136       Matemáticas Aplicadas\n",
       "201                    Biología"
      ]
     },
     "execution_count": 26,
     "metadata": {},
     "output_type": "execute_result"
    }
   ],
   "source": [
    "df_plan_names"
   ]
  },
  {
   "cell_type": "markdown",
   "metadata": {},
   "source": [
    "Veamos los indicadores $\\alpha$ y $\\beta$ para cada materia obligatoria. Se puede cambiar el plan cambiando la variable `plan_id` aquí abajo."
   ]
  },
  {
   "cell_type": "code",
   "execution_count": 27,
   "metadata": {},
   "outputs": [],
   "source": [
    "plan_id=122"
   ]
  },
  {
   "cell_type": "code",
   "execution_count": 28,
   "metadata": {},
   "outputs": [
    {
     "data": {
      "text/html": [
       "<div>\n",
       "<style scoped>\n",
       "    .dataframe tbody tr th:only-of-type {\n",
       "        vertical-align: middle;\n",
       "    }\n",
       "\n",
       "    .dataframe tbody tr th {\n",
       "        vertical-align: top;\n",
       "    }\n",
       "\n",
       "    .dataframe thead th {\n",
       "        text-align: right;\n",
       "    }\n",
       "</style>\n",
       "<table border=\"1\" class=\"dataframe\">\n",
       "  <thead>\n",
       "    <tr style=\"text-align: right;\">\n",
       "      <th></th>\n",
       "      <th>CourseID</th>\n",
       "      <th>PlanID</th>\n",
       "      <th>CourseType</th>\n",
       "      <th>CourseName</th>\n",
       "      <th>Alpha</th>\n",
       "      <th>Beta</th>\n",
       "    </tr>\n",
       "  </thead>\n",
       "  <tbody>\n",
       "    <tr>\n",
       "      <th>466</th>\n",
       "      <td>7</td>\n",
       "      <td>122</td>\n",
       "      <td>Obligatoria</td>\n",
       "      <td>Álgebra Superior I</td>\n",
       "      <td>5</td>\n",
       "      <td>0</td>\n",
       "    </tr>\n",
       "    <tr>\n",
       "      <th>467</th>\n",
       "      <td>91</td>\n",
       "      <td>122</td>\n",
       "      <td>Obligatoria</td>\n",
       "      <td>Cálculo Diferencial e Integral I</td>\n",
       "      <td>8</td>\n",
       "      <td>3</td>\n",
       "    </tr>\n",
       "    <tr>\n",
       "      <th>468</th>\n",
       "      <td>244</td>\n",
       "      <td>122</td>\n",
       "      <td>Obligatoria</td>\n",
       "      <td>Geometría Analítica I</td>\n",
       "      <td>8</td>\n",
       "      <td>2</td>\n",
       "    </tr>\n",
       "    <tr>\n",
       "      <th>469</th>\n",
       "      <td>249</td>\n",
       "      <td>122</td>\n",
       "      <td>Obligatoria</td>\n",
       "      <td>Geometría Moderna I</td>\n",
       "      <td>2</td>\n",
       "      <td>2</td>\n",
       "    </tr>\n",
       "    <tr>\n",
       "      <th>470</th>\n",
       "      <td>8</td>\n",
       "      <td>122</td>\n",
       "      <td>Obligatoria</td>\n",
       "      <td>Álgebra Superior II</td>\n",
       "      <td>7</td>\n",
       "      <td>0</td>\n",
       "    </tr>\n",
       "    <tr>\n",
       "      <th>471</th>\n",
       "      <td>92</td>\n",
       "      <td>122</td>\n",
       "      <td>Obligatoria</td>\n",
       "      <td>Cálculo Diferencial e Integral II</td>\n",
       "      <td>7</td>\n",
       "      <td>0</td>\n",
       "    </tr>\n",
       "    <tr>\n",
       "      <th>472</th>\n",
       "      <td>245</td>\n",
       "      <td>122</td>\n",
       "      <td>Obligatoria</td>\n",
       "      <td>Geometría Analítica II</td>\n",
       "      <td>5</td>\n",
       "      <td>1</td>\n",
       "    </tr>\n",
       "    <tr>\n",
       "      <th>473</th>\n",
       "      <td>5</td>\n",
       "      <td>122</td>\n",
       "      <td>Obligatoria</td>\n",
       "      <td>Álgebra Lineal I</td>\n",
       "      <td>7</td>\n",
       "      <td>1</td>\n",
       "    </tr>\n",
       "    <tr>\n",
       "      <th>474</th>\n",
       "      <td>93</td>\n",
       "      <td>122</td>\n",
       "      <td>Obligatoria</td>\n",
       "      <td>Cálculo Diferencial e Integral III</td>\n",
       "      <td>7</td>\n",
       "      <td>0</td>\n",
       "    </tr>\n",
       "    <tr>\n",
       "      <th>475</th>\n",
       "      <td>6</td>\n",
       "      <td>122</td>\n",
       "      <td>Obligatoria</td>\n",
       "      <td>Álgebra Lineal II</td>\n",
       "      <td>2</td>\n",
       "      <td>0</td>\n",
       "    </tr>\n",
       "    <tr>\n",
       "      <th>476</th>\n",
       "      <td>94</td>\n",
       "      <td>122</td>\n",
       "      <td>Obligatoria</td>\n",
       "      <td>Cálculo Diferencial e Integral IV</td>\n",
       "      <td>6</td>\n",
       "      <td>2</td>\n",
       "    </tr>\n",
       "    <tr>\n",
       "      <th>477</th>\n",
       "      <td>162</td>\n",
       "      <td>122</td>\n",
       "      <td>Obligatoria</td>\n",
       "      <td>Ecuaciones Diferenciales I</td>\n",
       "      <td>7</td>\n",
       "      <td>3</td>\n",
       "    </tr>\n",
       "    <tr>\n",
       "      <th>478</th>\n",
       "      <td>1</td>\n",
       "      <td>122</td>\n",
       "      <td>Obligatoria</td>\n",
       "      <td>Álgebra Moderna I</td>\n",
       "      <td>2</td>\n",
       "      <td>1</td>\n",
       "    </tr>\n",
       "    <tr>\n",
       "      <th>479</th>\n",
       "      <td>9</td>\n",
       "      <td>122</td>\n",
       "      <td>Obligatoria</td>\n",
       "      <td>Análisis Matemático I</td>\n",
       "      <td>3</td>\n",
       "      <td>0</td>\n",
       "    </tr>\n",
       "    <tr>\n",
       "      <th>480</th>\n",
       "      <td>840</td>\n",
       "      <td>122</td>\n",
       "      <td>Obligatoria</td>\n",
       "      <td>Variable Compleja I</td>\n",
       "      <td>1</td>\n",
       "      <td>0</td>\n",
       "    </tr>\n",
       "    <tr>\n",
       "      <th>481</th>\n",
       "      <td>10</td>\n",
       "      <td>122</td>\n",
       "      <td>Obligatoria</td>\n",
       "      <td>Análisis Matemático II</td>\n",
       "      <td>2</td>\n",
       "      <td>0</td>\n",
       "    </tr>\n",
       "  </tbody>\n",
       "</table>\n",
       "</div>"
      ],
      "text/plain": [
       "     CourseID  PlanID   CourseType                          CourseName  Alpha  \\\n",
       "466         7     122  Obligatoria                  Álgebra Superior I      5   \n",
       "467        91     122  Obligatoria    Cálculo Diferencial e Integral I      8   \n",
       "468       244     122  Obligatoria               Geometría Analítica I      8   \n",
       "469       249     122  Obligatoria                 Geometría Moderna I      2   \n",
       "470         8     122  Obligatoria                 Álgebra Superior II      7   \n",
       "471        92     122  Obligatoria   Cálculo Diferencial e Integral II      7   \n",
       "472       245     122  Obligatoria              Geometría Analítica II      5   \n",
       "473         5     122  Obligatoria                    Álgebra Lineal I      7   \n",
       "474        93     122  Obligatoria  Cálculo Diferencial e Integral III      7   \n",
       "475         6     122  Obligatoria                   Álgebra Lineal II      2   \n",
       "476        94     122  Obligatoria   Cálculo Diferencial e Integral IV      6   \n",
       "477       162     122  Obligatoria          Ecuaciones Diferenciales I      7   \n",
       "478         1     122  Obligatoria                   Álgebra Moderna I      2   \n",
       "479         9     122  Obligatoria               Análisis Matemático I      3   \n",
       "480       840     122  Obligatoria                 Variable Compleja I      1   \n",
       "481        10     122  Obligatoria              Análisis Matemático II      2   \n",
       "\n",
       "     Beta  \n",
       "466     0  \n",
       "467     3  \n",
       "468     2  \n",
       "469     2  \n",
       "470     0  \n",
       "471     0  \n",
       "472     1  \n",
       "473     1  \n",
       "474     0  \n",
       "475     0  \n",
       "476     2  \n",
       "477     3  \n",
       "478     1  \n",
       "479     0  \n",
       "480     0  \n",
       "481     0  "
      ]
     },
     "execution_count": 28,
     "metadata": {},
     "output_type": "execute_result"
    }
   ],
   "source": [
    "obli_plan=df_plans[(df_plans['PlanID']==plan_id)&(df_plans['CourseType']=='Obligatoria')].copy()\n",
    "obli_plan[\"CourseName\"]=obli_plan['CourseID'].apply(lambda x: get_course_name(x))\n",
    "obli_plan[\"Alpha\"]=obli_plan['CourseID'].apply(lambda x:alpha('{:0>4d}'.format(x)))\n",
    "obli_plan[\"Beta\"]=obli_plan['CourseID'].apply(lambda x:beta('{:0>4d}'.format(x)))\n",
    "obli_plan"
   ]
  },
  {
   "cell_type": "markdown",
   "metadata": {},
   "source": [
    "¿Cómo se ven estos valores?"
   ]
  },
  {
   "cell_type": "code",
   "execution_count": 29,
   "metadata": {},
   "outputs": [
    {
     "data": {
      "image/png": "[encoded data removed]",
      "text/plain": [
       "<Figure size 432x288 with 1 Axes>"
      ]
     },
     "metadata": {
      "needs_background": "light"
     },
     "output_type": "display_data"
    }
   ],
   "source": [
    "plt.scatter(obli_plan['Alpha'],obli_plan['Beta'],alpha=0.4)\n",
    "plt.xlabel('Valor de alpha')\n",
    "plt.ylabel('Valor de beta')\n",
    "plt.title(\"{}\".format(df_plan_names.loc[plan_id]['PlanName']))\n",
    "plt.show()"
   ]
  },
  {
   "cell_type": "markdown",
   "metadata": {},
   "source": [
    "¿Cómo se ve para todas las obligatorias?"
   ]
  },
  {
   "cell_type": "code",
   "execution_count": 41,
   "metadata": {},
   "outputs": [],
   "source": [
    "obli=df_plans[(df_plans['CourseType']=='Obligatoria')].groupby(['CourseID']).first().reset_index()\n",
    "obli[\"CourseName\"]=obli['CourseID'].apply(lambda x: get_course_name(x))\n",
    "obli[\"Alpha\"]=obli['CourseID'].apply(lambda x:alpha('{:0>4d}'.format(x)))\n",
    "obli[\"Beta\"]=obli['CourseID'].apply(lambda x:beta('{:0>4d}'.format(x)))"
   ]
  },
  {
   "cell_type": "code",
   "execution_count": 43,
   "metadata": {},
   "outputs": [],
   "source": [
    "# Hay que quitar algunas materias que producen KeyError. También quitamos los talleres de biología pues tienen un comportamiento muy distinto.\n",
    "obli=obli[(obli.Alpha!='KeyError')&(~obli.CourseID.isin(['1503','1603','1700','1800']))]"
   ]
  },
  {
   "cell_type": "code",
   "execution_count": 44,
   "metadata": {},
   "outputs": [
    {
     "data": {
      "image/png": "[encoded data removed]",
      "text/plain": [
       "<Figure size 432x288 with 1 Axes>"
      ]
     },
     "metadata": {
      "needs_background": "light"
     },
     "output_type": "display_data"
    }
   ],
   "source": [
    "plt.scatter(obli['Alpha'],obli['Beta'],alpha=0.4)\n",
    "plt.xlabel('Valor de alpha')\n",
    "plt.ylabel('Valor de beta')\n",
    "plt.title(\"Todas las obligatorias\")\n",
    "plt.show()"
   ]
  },
  {
   "cell_type": "code",
   "execution_count": null,
   "metadata": {},
   "outputs": [],
   "source": []
  }
 ],
 "metadata": {
  "kernelspec": {
   "display_name": "Python 3",
   "language": "python",
   "name": "python3"
  },
  "language_info": {
   "codemirror_mode": {
    "name": "ipython",
    "version": 3
   },
   "file_extension": ".py",
   "mimetype": "text/x-python",
   "name": "python",
   "nbconvert_exporter": "python",
   "pygments_lexer": "ipython3",
   "version": "3.8.5"
  },
  "latex_envs": {
   "LaTeX_envs_menu_present": true,
   "autoclose": false,
   "autocomplete": false,
   "bibliofile": "biblio.bib",
   "cite_by": "apalike",
   "current_citInitial": 1,
   "eqLabelWithNumbers": true,
   "eqNumInitial": 1,
   "hotkeys": {
    "equation": "Ctrl-E",
    "itemize": "Ctrl-I"
   },
   "labels_anchors": false,
   "latex_user_defs": false,
   "report_style_numbering": false,
   "user_envs_cfg": false
  }
 },
 "nbformat": 4,
 "nbformat_minor": 4
}
